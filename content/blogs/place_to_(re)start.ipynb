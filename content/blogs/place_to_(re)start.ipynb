{
  "cells": [
    {
      "cell_type": "markdown",
      "source": [
        "So this was a failing (or failed?) project.\n",
        "\n",
        "Sure I would love to finish the series on Finite Element Modelling.\n",
        "Perhaps, do some more, one on Finite Volume, one specific about the tools, FEniCS, OpenFOAM, SimFlow, or any other of the great open source tools that I have seen and got some contact in the last 3 years.\n",
        "\n",
        "I also started to be more concerned with learning. Towards the end of my Bachelor's Degree I got really interested on methodologies, both on the student and teachers perspective.\n",
        "\n",
        "I got to know very nice Professors which were role models to me.\n",
        "Also, I got my Masters Degree early this year.\n",
        "\n",
        "And perhaps the funny thing, is now, almost finishing my first semester as a PhD student, I came back to this urge to write, not because I feel part of, but rather because I feel the ticks of the clock slownly drifting me away from academia.\n",
        "\n",
        "It is not by any means what I would like, nor the fate that I will just accept.\n",
        "\n",
        "I have a commitement to do my best to stick around, but I know the odds are not on my favor. Not only because of my local reality (Brazil), but even the overall worldwide stats shows the same picture: you decide to bet on the academia and the most probable outcome is that you won't be able to just pursuit science for your whole carreers. Simply put there are not enough chairs for everybody. And we all know that, we are aware of it, but hope is a sticky thing, you simple cannot let go of it...\n",
        "\n",
        "I wanted to conclude this on a clear paragraph showing the next steps, but I guess I cannot do so at the moment.\n",
        "\n",
        "This could be my comeback to this blog, or not. And this blog could be somewhere I list and share some of the nice things that I have learned on the last years, or serve as a portfolio of what I can do for future employers (?).\n",
        "\n",
        "Academia, industry, or enterpreunship, I really don't know what the opportunities will be, let's wait and see.\n",
        "And perhaps this is a place to start.\n",
        "\n",
        "To the unlucky one that by accident found any of the old posts interesting, perhaps in the furute we will complete the FEM course!\n",
        "\n",
        "We'll see, ironically enough, I may not talk too much about math right now. For the moment, I want to share some personal/professional experiences.\n",
        "\n",
        "I'll write this to myself and to anyone that might find it helpful.\n",
        "Thanks to any unwkown reader!\n",
        "\n"
      ],
      "metadata": {
        "nteract": {
          "transient": {
            "deleting": false
          }
        }
      }
    },
    {
      "cell_type": "markdown",
      "source": [],
      "metadata": {
        "nteract": {
          "transient": {
            "deleting": false
          }
        }
      }
    }
  ],
  "metadata": {
    "kernel_info": {
      "name": "python3"
    },
    "language_info": {
      "name": "python",
      "version": "3.7.7",
      "mimetype": "text/x-python",
      "codemirror_mode": {
        "name": "ipython",
        "version": 3
      },
      "pygments_lexer": "ipython3",
      "nbconvert_exporter": "python",
      "file_extension": ".py"
    },
    "kernelspec": {
      "argv": [
        "C:/ProgramData/Anaconda3\\python.exe",
        "-m",
        "ipykernel_launcher",
        "-f",
        "{connection_file}"
      ],
      "display_name": "Python 3",
      "language": "python",
      "name": "python3"
    },
    "nteract": {
      "version": "0.28.0"
    }
  },
  "nbformat": 4,
  "nbformat_minor": 0
}